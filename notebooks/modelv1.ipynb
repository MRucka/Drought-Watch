{
 "cells": [
  {
   "cell_type": "markdown",
   "metadata": {
    "id": "qou1wPW8Rfts"
   },
   "source": [
    "Presenting the best developed model so far (max `val_categorical_accuracy` = 0.7713).\n",
    "<br> <br>\n",
    "Input pipeline includes **handcrafted cloud detection**  (see *Images preprocessing* section) which either discards or preprocesses multispectral images with noticeable amount of clouds (see *clouds_shadows* notebook for visual examples). \n",
    "<br>\n",
    "Future versions of the input pipeline will include **Haralick feautures calculation** and **data augmentation**.\n",
    "<br> <br>\n",
    "<font color = 'gray'> NOTE: the present notebook was originally run using Google Drive and Google Colab GPUs. </font>"
   ]
  },
  {
   "cell_type": "code",
   "execution_count": 1,
   "metadata": {
    "colab": {
     "base_uri": "https://localhost:8080/"
    },
    "id": "8O1yJrUrpavx",
    "outputId": "363dc429-27cc-406e-f55b-ae6382678c7b"
   },
   "outputs": [
    {
     "name": "stdout",
     "output_type": "stream",
     "text": [
      "Sat Mar 27 13:49:22 2021       \n",
      "+-----------------------------------------------------------------------------+\n",
      "| NVIDIA-SMI 460.56       Driver Version: 460.32.03    CUDA Version: 11.2     |\n",
      "|-------------------------------+----------------------+----------------------+\n",
      "| GPU  Name        Persistence-M| Bus-Id        Disp.A | Volatile Uncorr. ECC |\n",
      "| Fan  Temp  Perf  Pwr:Usage/Cap|         Memory-Usage | GPU-Util  Compute M. |\n",
      "|                               |                      |               MIG M. |\n",
      "|===============================+======================+======================|\n",
      "|   0  Tesla V100-SXM2...  Off  | 00000000:00:04.0 Off |                    0 |\n",
      "| N/A   37C    P0    25W / 300W |      0MiB / 16160MiB |      0%      Default |\n",
      "|                               |                      |                  N/A |\n",
      "+-------------------------------+----------------------+----------------------+\n",
      "                                                                               \n",
      "+-----------------------------------------------------------------------------+\n",
      "| Processes:                                                                  |\n",
      "|  GPU   GI   CI        PID   Type   Process name                  GPU Memory |\n",
      "|        ID   ID                                                   Usage      |\n",
      "|=============================================================================|\n",
      "|  No running processes found                                                 |\n",
      "+-----------------------------------------------------------------------------+\n"
     ]
    }
   ],
   "source": [
    "! nvidia-smi"
   ]
  },
  {
   "cell_type": "markdown",
   "metadata": {
    "id": "28Oe8qUoumrF"
   },
   "source": [
    "### Imports, drive mounting, defining constants"
   ]
  },
  {
   "cell_type": "code",
   "execution_count": 2,
   "metadata": {
    "id": "RHOWHCNZ3iAp"
   },
   "outputs": [],
   "source": [
    "import tensorflow as tf\n",
    "import numpy as np\n",
    "\n",
    "# images\n",
    "import cv2\n",
    "import skimage.transform # for scaling multichannel (>3) images\n",
    "from skimage.feature import greycomatrix, greycoprops\n",
    "\n",
    "# utils\n",
    "from os import listdir\n",
    "from google.colab import drive\n",
    "import random"
   ]
  },
  {
   "cell_type": "code",
   "execution_count": null,
   "metadata": {
    "colab": {
     "base_uri": "https://localhost:8080/"
    },
    "id": "rG6t9iGKzESO",
    "outputId": "516455bf-36a0-439c-d299-a4c083a21cc6"
   },
   "outputs": [],
   "source": [
    "drive.mount('/content/drive')"
   ]
  },
  {
   "cell_type": "code",
   "execution_count": 4,
   "metadata": {
    "id": "CGqvUU_EzF0O"
   },
   "outputs": [],
   "source": [
    "LOAD_PATH = '/content/drive/My Drive/data/'\n",
    "SAVE_PATH = '/content/drive/My Drive/saved/'\n",
    "\n",
    "ORIGIN_IMG_DIM = 65 \n",
    "BANDS = ['B4', 'B3', 'B2', 'B5', 'B6', 'B10', 'B11']\n",
    "NUM_CLASSES = 4 # 0, 1, 2, 3; 4 will be used temporarily when marking samples to discard (on account of clouds) \n",
    "\n",
    "# model training\n",
    "LR = 1.0 # Adadelta\n",
    "BATCH_SIZE = 64 \n",
    "NUM_EPOCHS = 80\n",
    "BUFF_SIZE = BATCH_SIZE * 8 # for input stream (dataset.shuffle()), 'In practice, we use buffer size equals to several batch sizes.'"
   ]
  },
  {
   "cell_type": "markdown",
   "metadata": {
    "id": "vYkoTAMSy7WQ"
   },
   "source": [
    "### Images preprocessing "
   ]
  },
  {
   "cell_type": "code",
   "execution_count": 5,
   "metadata": {
    "id": "iH2SyDx6upTr"
   },
   "outputs": [],
   "source": [
    "# preprocesses multispectral image regarding clouds\n",
    "def preprocess_clouds(multispec_img, seg_img): # takes (single img from minibatch along with binary clouds / no clouds image)\n",
    "  if np.sum(seg_img) / (65 * 65) <= 0.05: # clouds constitute no more than 5% of an image, it's okay\n",
    "    return multispec_img, None \n",
    "\n",
    "  # use four sliding 50x50 windows to pick the part with the least clouds\n",
    "  # slices numbers spatially:\n",
    "  # 0 1 \n",
    "  # 2 3\n",
    "  slices = {\n",
    "    0 : (slice(0, 50), slice(0, 50)),\n",
    "    1 : (slice(0, 50), slice(15, 65)),\n",
    "    2 : (slice(15, 65), slice(0, 50)),\n",
    "    3 : (slice(15, 65), slice(15, 65)),\n",
    "  }\n",
    "\n",
    "  cloud_areas = np.zeros((4, ), dtype = int)\n",
    "\n",
    "  # TODO: vectorize\n",
    "  for i in range(4):\n",
    "    cloud_areas[i] = np.sum(seg_img[slices[i]])\n",
    "\n",
    "  min_quart = np.argmin(cloud_areas)\n",
    "  if cloud_areas[min_quart] / (50 * 50)  <= 0.1: # if the best 50x50 slice contains less than 10% clouds\n",
    "    return skimage.transform.resize(multispec_img[slices[min_quart]], (65, 65), preserve_range = True), slices[min_quart]\n",
    "\n",
    "  # there's still to many clouds \n",
    "  return None\n",
    "\n",
    "# function preproccesing and returing a new image (and new label if marked)\n",
    "def preprocess_sample(multispec_img, label): \n",
    "  # global TIRs channels min & max for clouds detection\n",
    "  tirs_min = 153\n",
    "  tirs_max = 215\n",
    "\n",
    "  if multispec_img[:, :, 0 : 3].max() == 0: # some images seems to be corrupted (all black)\n",
    "    return multispec_img, np.int32(4)\n",
    "\n",
    "  tirs_mean = (multispec_img[:, :, 5].astype(np.int16) + multispec_img[:, :, 6].astype(np.int16)) / 2\n",
    "  tirs_mean_norm = (tirs_mean - tirs_min) / (tirs_max - tirs_min)\n",
    "\n",
    "  single_chan_img = np.zeros((ORIGIN_IMG_DIM, ORIGIN_IMG_DIM), dtype = np.int16) \n",
    "  single_chan_img = multispec_img[:, :, 2] - tirs_mean_norm # BLUE - TIRs\n",
    "\n",
    "  # binary clouds / no clouds image\n",
    "  single_chan_img[single_chan_img < 50] = 0\n",
    "  single_chan_img[single_chan_img >= 50] = 1\n",
    "\n",
    "  tup = preprocess_clouds(multispec_img, single_chan_img)\n",
    "\n",
    "  if tup is None:\n",
    "    return multispec_img, np.int32(4) # discard on account of clouds\n",
    "  (multispec_img_no_clouds, slices) = tup  \n",
    "\n",
    "  return multispec_img_no_clouds.astype(np.uint8), label\n",
    "\n",
    "def scale_bands(multispec_img):\n",
    "  scaled_multispec_img = multispec_img / 255.\n",
    "\n",
    "  return scaled_multispec_img.astype(np.float32)"
   ]
  },
  {
   "cell_type": "markdown",
   "metadata": {
    "id": "daalgxUb0Fbp"
   },
   "source": [
    "### Data loading and synthesizing"
   ]
  },
  {
   "cell_type": "code",
   "execution_count": 6,
   "metadata": {
    "id": "X_VR4gT30M43"
   },
   "outputs": [],
   "source": [
    "def filelist_from_folder(folder): # returns list of all TFRecords files inside a specified folder\n",
    "  folder_path = LOAD_PATH + folder + '/'\n",
    "  paths_list = []\n",
    "\n",
    "  for filename in listdir(folder_path):\n",
    "    if filename.startswith('part-') and not filename.endswith('gstmp'):\n",
    "      paths_list.append(folder_path + filename)\n",
    "\n",
    "  random.shuffle(paths_list) # make sure there's no order\n",
    "  return paths_list"
   ]
  },
  {
   "cell_type": "code",
   "execution_count": 7,
   "metadata": {
    "id": "P0Wzy27a0Pun"
   },
   "outputs": [],
   "source": [
    "# what features to extract from TFRecord\n",
    "features = {\n",
    "  'B2': tf.io.FixedLenFeature([], tf.string), # B\n",
    "  'B3': tf.io.FixedLenFeature([], tf.string), # G\n",
    "  'B4': tf.io.FixedLenFeature([], tf.string), # R\n",
    "  'B5': tf.io.FixedLenFeature([], tf.string), # NIR\n",
    "  'B6': tf.io.FixedLenFeature([], tf.string), # SWIR1\n",
    "  'B7': tf.io.FixedLenFeature([], tf.string), # SWIR2\n",
    "  'B10': tf.io.FixedLenFeature([], tf.string), # TIR1\n",
    "  'B11': tf.io.FixedLenFeature([], tf.string), # TIR2\n",
    "  'label': tf.io.FixedLenFeature([], tf.int64)}  "
   ]
  },
  {
   "cell_type": "code",
   "execution_count": 8,
   "metadata": {
    "id": "7vTAt5-Mogc_"
   },
   "outputs": [],
   "source": [
    "def getband(example_key): # returns one channel, (65, 65, 1) tensor\n",
    "  img = tf.io.decode_raw(example_key, tf.uint8) \n",
    "\n",
    "  return tf.reshape(img[ : ORIGIN_IMG_DIM**2], shape = (ORIGIN_IMG_DIM, ORIGIN_IMG_DIM, 1)) \n",
    "\n",
    "def _parse_(serialized_example, keylist):\n",
    "  example = tf.io.parse_single_example(serialized_example, features) # transforms serialized binary sequence to a dictionary with\n",
    "                                                                     # assigned sequences\n",
    "  bandlist = [getband(example[key]) for key in keylist]\n",
    "  image = tf.concat(bandlist, -1) # join all channels\n",
    "  label = tf.cast(example['label'], tf.int32) \n",
    "\n",
    "  # clouds preprocessing + mark samples to discard with 4\n",
    "  [image, label] = tf.numpy_function(preprocess_sample, [image, label], [tf.uint8, tf.int32])\n",
    "\n",
    "  # scaling\n",
    "  image = tf.numpy_function(scale_bands, [image], tf.float32)\n",
    "\n",
    "  if label == 4: \n",
    "    return image, tf.convert_to_tensor([1., 1., 1., 1.]) # will be used later in dataset.filter() method\n",
    "\n",
    "  label = tf.one_hot(label, NUM_CLASSES)\n",
    "  return image, label \n",
    "\n",
    "def parse_tfrecords(paths_list, buff_size): \n",
    "  dataset = tf.data.TFRecordDataset(paths_list) \n",
    "  dataset = dataset.shuffle(buff_size, reshuffle_each_iteration = True)\n",
    "  dataset = dataset.map(lambda x : _parse_(x, BANDS), num_parallel_calls = tf.data.AUTOTUNE)\n",
    "  dataset = dataset.filter(lambda x, y : tf.math.reduce_sum(y) != 4.) # discard corrupted / cloudy samples\n",
    "  dataset = dataset.batch(BATCH_SIZE) \n",
    "  dataset = dataset.prefetch(tf.data.AUTOTUNE) # load new samples into buffer when training (increases speed)\n",
    "\n",
    "  return dataset"
   ]
  },
  {
   "cell_type": "code",
   "execution_count": 9,
   "metadata": {
    "id": "aFzPOYKZoSLY"
   },
   "outputs": [],
   "source": [
    "train_tfrecords = filelist_from_folder('train')\n",
    "val_tfrecords = filelist_from_folder('val')\n",
    "\n",
    "train = parse_tfrecords(train_tfrecords, BUFF_SIZE)\n",
    "val = parse_tfrecords(val_tfrecords, BUFF_SIZE)"
   ]
  },
  {
   "cell_type": "markdown",
   "metadata": {
    "id": "mV8yx-Uj17Av"
   },
   "source": [
    "### Custom loss function"
   ]
  },
  {
   "cell_type": "code",
   "execution_count": 10,
   "metadata": {
    "id": "Z524G6F419gb"
   },
   "outputs": [],
   "source": [
    "def class_weights_matrix():\n",
    "  class_weights = np.zeros((NUM_CLASSES, NUM_CLASSES))\n",
    "  class_weights[:, 0] += 0.25\n",
    "  class_weights[:, 1] += 1.7\n",
    "  class_weights[:, 2] += 1.7\n",
    "  class_weights[:, 3] += 2.5\n",
    "  \n",
    "  return class_weights"
   ]
  },
  {
   "cell_type": "code",
   "execution_count": 11,
   "metadata": {
    "id": "RUQ_lHwg2DzE"
   },
   "outputs": [],
   "source": [
    "# stackoverlow\n",
    "import tensorflow.keras.backend as K\n",
    "from tensorflow.keras.losses import CategoricalCrossentropy\n",
    "class WeightedCategoricalCrossentropy2(tf.keras.losses.CategoricalCrossentropy):\n",
    "\n",
    "  def __init__(self, cost_mat, name='weighted_categorical_crossentropy', **kwargs):\n",
    "\n",
    "    cost_mat = np.array(cost_mat)   \n",
    "    ## when loading from config, self.cost_mat returns as a list, rather than an numpy array. \n",
    "    ## Adding the above line fixes this issue, enabling .ndim to call sucessfully. \n",
    "    ## However, this is probably not the best implementation\n",
    "    assert(cost_mat.ndim == 2)\n",
    "    assert(cost_mat.shape[0] == cost_mat.shape[1])\n",
    "    super().__init__(name=name, **kwargs)\n",
    "    self.cost_mat = K.cast_to_floatx(cost_mat)\n",
    "\n",
    "  def __call__(self, y_true, y_pred, sample_weight=None):\n",
    "    assert sample_weight is None, \"should only be derived from the cost matrix\"  \n",
    "    return super().__call__(\n",
    "        y_true=y_true, \n",
    "        y_pred=y_pred, \n",
    "        sample_weight=get_sample_weights(y_true, y_pred, self.cost_mat),\n",
    "    )\n",
    "\n",
    "  def get_config(self):\n",
    "    config = super().get_config().copy()\n",
    "    # Calling .update on the line above, during assignment, causes an error with config becoming None-type.\n",
    "    config.update({'cost_mat': (self.cost_mat)})\n",
    "    return config\n",
    "\n",
    "  @classmethod\n",
    "  def from_config(cls, config):\n",
    "    # something goes wrong here and changes self.cost_mat to a list variable.\n",
    "    # See above for temporary fix\n",
    "    return cls(**config)\n",
    "\n",
    "def get_sample_weights(y_true, y_pred, cost_m):\n",
    "    num_classes = len(cost_m)\n",
    "\n",
    "    y_pred.shape.assert_has_rank(2)\n",
    "    assert(y_pred.shape[1] == num_classes)\n",
    "    y_pred.shape.assert_is_compatible_with(y_true.shape)\n",
    "\n",
    "    y_pred = K.one_hot(K.argmax(y_pred), num_classes)\n",
    "\n",
    "    y_true_nk1 = K.expand_dims(y_true, 2)\n",
    "    y_pred_n1k = K.expand_dims(y_pred, 1)\n",
    "    cost_m_1kk = K.expand_dims(cost_m, 0)\n",
    "\n",
    "    sample_weights_nkk = cost_m_1kk * y_true_nk1 * y_pred_n1k\n",
    "    sample_weights_n = K.sum(sample_weights_nkk, axis=[1, 2])\n",
    "\n",
    "    return sample_weights_n\n",
    "\n",
    "# Register the loss in the Keras namespace to enable loading of the custom object.\n",
    "tf.keras.losses.WeightedCategoricalCrossentropy2 = WeightedCategoricalCrossentropy2"
   ]
  },
  {
   "cell_type": "markdown",
   "metadata": {
    "id": "Ar5WWVk721MJ"
   },
   "source": [
    "### Building and compiling the model"
   ]
  },
  {
   "cell_type": "code",
   "execution_count": 12,
   "metadata": {
    "colab": {
     "base_uri": "https://localhost:8080/"
    },
    "id": "G_V5cp1u23Qn",
    "outputId": "04e6bb55-deda-42c5-88b5-c49b86e212be"
   },
   "outputs": [
    {
     "name": "stdout",
     "output_type": "stream",
     "text": [
      "Model: \"model\"\n",
      "_________________________________________________________________\n",
      "Layer (type)                 Output Shape              Param #   \n",
      "=================================================================\n",
      "input_1 (InputLayer)         [(None, 65, 65, 7)]       0         \n",
      "_________________________________________________________________\n",
      "tf.__operators__.getitem (Sl (None, 65, 65, 6)         0         \n",
      "_________________________________________________________________\n",
      "conv2d (Conv2D)              (None, 61, 61, 64)        9664      \n",
      "_________________________________________________________________\n",
      "batch_normalization (BatchNo (None, 61, 61, 64)        256       \n",
      "_________________________________________________________________\n",
      "max_pooling2d (MaxPooling2D) (None, 30, 30, 64)        0         \n",
      "_________________________________________________________________\n",
      "conv2d_1 (Conv2D)            (None, 28, 28, 128)       73856     \n",
      "_________________________________________________________________\n",
      "batch_normalization_1 (Batch (None, 28, 28, 128)       512       \n",
      "_________________________________________________________________\n",
      "max_pooling2d_1 (MaxPooling2 (None, 14, 14, 128)       0         \n",
      "_________________________________________________________________\n",
      "dropout (Dropout)            (None, 14, 14, 128)       0         \n",
      "_________________________________________________________________\n",
      "conv2d_2 (Conv2D)            (None, 12, 12, 256)       295168    \n",
      "_________________________________________________________________\n",
      "batch_normalization_2 (Batch (None, 12, 12, 256)       1024      \n",
      "_________________________________________________________________\n",
      "max_pooling2d_2 (MaxPooling2 (None, 6, 6, 256)         0         \n",
      "_________________________________________________________________\n",
      "dropout_1 (Dropout)          (None, 6, 6, 256)         0         \n",
      "_________________________________________________________________\n",
      "conv2d_3 (Conv2D)            (None, 4, 4, 512)         1180160   \n",
      "_________________________________________________________________\n",
      "batch_normalization_3 (Batch (None, 4, 4, 512)         2048      \n",
      "_________________________________________________________________\n",
      "max_pooling2d_3 (MaxPooling2 (None, 2, 2, 512)         0         \n",
      "_________________________________________________________________\n",
      "dropout_2 (Dropout)          (None, 2, 2, 512)         0         \n",
      "_________________________________________________________________\n",
      "flatten (Flatten)            (None, 2048)              0         \n",
      "_________________________________________________________________\n",
      "dense (Dense)                (None, 1024)              2098176   \n",
      "_________________________________________________________________\n",
      "batch_normalization_4 (Batch (None, 1024)              4096      \n",
      "_________________________________________________________________\n",
      "dropout_3 (Dropout)          (None, 1024)              0         \n",
      "_________________________________________________________________\n",
      "dense_1 (Dense)              (None, 1024)              1049600   \n",
      "_________________________________________________________________\n",
      "batch_normalization_5 (Batch (None, 1024)              4096      \n",
      "_________________________________________________________________\n",
      "dense_2 (Dense)              (None, 4)                 4100      \n",
      "=================================================================\n",
      "Total params: 4,722,756\n",
      "Trainable params: 4,716,740\n",
      "Non-trainable params: 6,016\n",
      "_________________________________________________________________\n",
      "None\n"
     ]
    }
   ],
   "source": [
    "input = tf.keras.Input(shape = (65, 65, 7))\n",
    "\n",
    "x = tf.keras.layers.Conv2D(64, 5, activation = 'relu')(input[:, :, :, 0 : 6])\n",
    "x = tf.keras.layers.BatchNormalization()(x)\n",
    "x = tf.keras.layers.MaxPooling2D(2)(x)\n",
    "\n",
    "x = tf.keras.layers.Conv2D(128, 3, activation = 'relu')(x)\n",
    "x = tf.keras.layers.BatchNormalization()(x)\n",
    "x = tf.keras.layers.MaxPooling2D(2)(x)\n",
    "x = tf.keras.layers.Dropout(0.4)(x)\n",
    "\n",
    "x = tf.keras.layers.Conv2D(256, 3, activation = 'relu', )(x)\n",
    "x = tf.keras.layers.BatchNormalization()(x)\n",
    "x = tf.keras.layers.MaxPooling2D(2)(x)\n",
    "x = tf.keras.layers.Dropout(0.4)(x)\n",
    "\n",
    "x = tf.keras.layers.Conv2D(512, 3, activation = 'relu')(x)\n",
    "x = tf.keras.layers.BatchNormalization()(x)\n",
    "x = tf.keras.layers.MaxPooling2D(2)(x)\n",
    "x = tf.keras.layers.Dropout(0.4)(x)\n",
    "\n",
    "x = tf.keras.layers.Flatten()(x)\n",
    "\n",
    "x = tf.keras.layers.Dense(1024, activation = 'relu')(x)\n",
    "x = tf.keras.layers.BatchNormalization()(x) \n",
    "x = tf.keras.layers.Dropout(0.4)(x)\n",
    "\n",
    "x = tf.keras.layers.Dense(1024, activation = 'relu')(x) \n",
    "x = tf.keras.layers.BatchNormalization()(x)\n",
    "\n",
    "output = tf.keras.layers.Dense(NUM_CLASSES, activation = 'softmax', )(x)\n",
    "\n",
    "# define model\n",
    "model = tf.keras.Model(inputs = input, outputs = output)\n",
    "model.compile(optimizer = tf.keras.optimizers.Adadelta(learning_rate = LR), \n",
    "              loss = tf.keras.losses.WeightedCategoricalCrossentropy2(class_weights_matrix()), \n",
    "              metrics = ['categorical_accuracy'])\n",
    "\n",
    "print(model.summary())"
   ]
  },
  {
   "cell_type": "markdown",
   "metadata": {
    "id": "7gYGPxKYCEHi"
   },
   "source": [
    "### Training"
   ]
  },
  {
   "cell_type": "code",
   "execution_count": 13,
   "metadata": {
    "colab": {
     "base_uri": "https://localhost:8080/"
    },
    "id": "azCE4XKGCGi8",
    "outputId": "0bc4548e-b9da-462e-e3c9-bb6517ba0167"
   },
   "outputs": [
    {
     "name": "stdout",
     "output_type": "stream",
     "text": [
      "Epoch 1/80\n",
      "1225/1225 [==============================] - 135s 104ms/step - loss: 1.1929 - categorical_accuracy: 0.5875 - val_loss: 0.7073 - val_categorical_accuracy: 0.5970\n",
      "Epoch 2/80\n",
      "1225/1225 [==============================] - 126s 103ms/step - loss: 0.6260 - categorical_accuracy: 0.6479 - val_loss: 4.9903 - val_categorical_accuracy: 0.1138\n",
      "Epoch 3/80\n",
      "1225/1225 [==============================] - 124s 101ms/step - loss: 0.6469 - categorical_accuracy: 0.6746 - val_loss: 0.6554 - val_categorical_accuracy: 0.6499\n",
      "Epoch 4/80\n",
      "1225/1225 [==============================] - 124s 101ms/step - loss: 0.6303 - categorical_accuracy: 0.6941 - val_loss: 1.3619 - val_categorical_accuracy: 0.5727\n",
      "Epoch 5/80\n",
      "1225/1225 [==============================] - 120s 98ms/step - loss: 0.6185 - categorical_accuracy: 0.7084 - val_loss: 0.8236 - val_categorical_accuracy: 0.6792\n",
      "Epoch 6/80\n",
      "1225/1225 [==============================] - 122s 100ms/step - loss: 0.6044 - categorical_accuracy: 0.7170 - val_loss: 0.5829 - val_categorical_accuracy: 0.6692\n",
      "Epoch 7/80\n",
      "1225/1225 [==============================] - 119s 97ms/step - loss: 0.6016 - categorical_accuracy: 0.7250 - val_loss: 1.4232 - val_categorical_accuracy: 0.5630\n",
      "Epoch 8/80\n",
      "1225/1225 [==============================] - 119s 98ms/step - loss: 0.6004 - categorical_accuracy: 0.7338 - val_loss: 1.2211 - val_categorical_accuracy: 0.6451\n",
      "Epoch 9/80\n",
      "1225/1225 [==============================] - 119s 97ms/step - loss: 0.5757 - categorical_accuracy: 0.7367 - val_loss: 0.5237 - val_categorical_accuracy: 0.6278\n",
      "Epoch 10/80\n",
      "1225/1225 [==============================] - 118s 96ms/step - loss: 0.5842 - categorical_accuracy: 0.7397 - val_loss: 0.4472 - val_categorical_accuracy: 0.6625\n",
      "Epoch 11/80\n",
      "1225/1225 [==============================] - 118s 96ms/step - loss: 0.5697 - categorical_accuracy: 0.7465 - val_loss: 0.7448 - val_categorical_accuracy: 0.6019\n",
      "Epoch 12/80\n",
      "1225/1225 [==============================] - 118s 96ms/step - loss: 0.5674 - categorical_accuracy: 0.7465 - val_loss: 1.2263 - val_categorical_accuracy: 0.6182\n",
      "Epoch 13/80\n",
      "1225/1225 [==============================] - 119s 97ms/step - loss: 0.5784 - categorical_accuracy: 0.7482 - val_loss: 0.6623 - val_categorical_accuracy: 0.6401\n",
      "Epoch 14/80\n",
      "1225/1225 [==============================] - 119s 97ms/step - loss: 0.5680 - categorical_accuracy: 0.7534 - val_loss: 0.4438 - val_categorical_accuracy: 0.6279\n",
      "Epoch 15/80\n",
      "1225/1225 [==============================] - 117s 96ms/step - loss: 0.5647 - categorical_accuracy: 0.7577 - val_loss: 0.5523 - val_categorical_accuracy: 0.6142\n",
      "Epoch 16/80\n",
      "1225/1225 [==============================] - 117s 96ms/step - loss: 0.5563 - categorical_accuracy: 0.7588 - val_loss: 0.6722 - val_categorical_accuracy: 0.6801\n",
      "Epoch 17/80\n",
      "1225/1225 [==============================] - 119s 97ms/step - loss: 0.5685 - categorical_accuracy: 0.7590 - val_loss: 0.9269 - val_categorical_accuracy: 0.6751\n",
      "Epoch 18/80\n",
      "1225/1225 [==============================] - 118s 96ms/step - loss: 0.5522 - categorical_accuracy: 0.7616 - val_loss: 0.7054 - val_categorical_accuracy: 0.6820\n",
      "Epoch 19/80\n",
      "1225/1225 [==============================] - 118s 97ms/step - loss: 0.5480 - categorical_accuracy: 0.7630 - val_loss: 0.4939 - val_categorical_accuracy: 0.6170\n",
      "Epoch 20/80\n",
      "1225/1225 [==============================] - 118s 96ms/step - loss: 0.5442 - categorical_accuracy: 0.7641 - val_loss: 0.4152 - val_categorical_accuracy: 0.6547\n",
      "Epoch 21/80\n",
      "1225/1225 [==============================] - 118s 96ms/step - loss: 0.5475 - categorical_accuracy: 0.7687 - val_loss: 0.8426 - val_categorical_accuracy: 0.6711\n",
      "Epoch 22/80\n",
      "1225/1225 [==============================] - 118s 96ms/step - loss: 0.5425 - categorical_accuracy: 0.7702 - val_loss: 0.5378 - val_categorical_accuracy: 0.6425\n",
      "Epoch 23/80\n",
      "1225/1225 [==============================] - 118s 96ms/step - loss: 0.5354 - categorical_accuracy: 0.7701 - val_loss: 0.5769 - val_categorical_accuracy: 0.6736\n",
      "Epoch 24/80\n",
      "1225/1225 [==============================] - 118s 96ms/step - loss: 0.5329 - categorical_accuracy: 0.7730 - val_loss: 0.4512 - val_categorical_accuracy: 0.6987\n",
      "Epoch 25/80\n",
      "1225/1225 [==============================] - 117s 96ms/step - loss: 0.5305 - categorical_accuracy: 0.7723 - val_loss: 0.4489 - val_categorical_accuracy: 0.6795\n",
      "Epoch 26/80\n",
      "1225/1225 [==============================] - 117s 96ms/step - loss: 0.5264 - categorical_accuracy: 0.7754 - val_loss: 0.7878 - val_categorical_accuracy: 0.5672\n",
      "Epoch 27/80\n",
      "1225/1225 [==============================] - 118s 96ms/step - loss: 0.5335 - categorical_accuracy: 0.7753 - val_loss: 0.7156 - val_categorical_accuracy: 0.6844\n",
      "Epoch 28/80\n",
      "1225/1225 [==============================] - 118s 96ms/step - loss: 0.5372 - categorical_accuracy: 0.7792 - val_loss: 0.4149 - val_categorical_accuracy: 0.6553\n",
      "Epoch 29/80\n",
      "1225/1225 [==============================] - 119s 97ms/step - loss: 0.5249 - categorical_accuracy: 0.7805 - val_loss: 0.9364 - val_categorical_accuracy: 0.6545\n",
      "Epoch 30/80\n",
      "1225/1225 [==============================] - 118s 97ms/step - loss: 0.5210 - categorical_accuracy: 0.7812 - val_loss: 0.3968 - val_categorical_accuracy: 0.6493\n",
      "Epoch 31/80\n",
      "1225/1225 [==============================] - 118s 96ms/step - loss: 0.5280 - categorical_accuracy: 0.7833 - val_loss: 2.3308 - val_categorical_accuracy: 0.5158\n",
      "Epoch 32/80\n",
      "1225/1225 [==============================] - 119s 97ms/step - loss: 0.5191 - categorical_accuracy: 0.7843 - val_loss: 0.4742 - val_categorical_accuracy: 0.7451\n",
      "Epoch 33/80\n",
      "1225/1225 [==============================] - 119s 97ms/step - loss: 0.5162 - categorical_accuracy: 0.7828 - val_loss: 0.8540 - val_categorical_accuracy: 0.6670\n",
      "Epoch 34/80\n",
      "1225/1225 [==============================] - 118s 96ms/step - loss: 0.5140 - categorical_accuracy: 0.7844 - val_loss: 0.5498 - val_categorical_accuracy: 0.7106\n",
      "Epoch 35/80\n",
      "1225/1225 [==============================] - 119s 97ms/step - loss: 0.5117 - categorical_accuracy: 0.7846 - val_loss: 0.4416 - val_categorical_accuracy: 0.6934\n",
      "Epoch 36/80\n",
      "1225/1225 [==============================] - 119s 97ms/step - loss: 0.5132 - categorical_accuracy: 0.7856 - val_loss: 1.7992 - val_categorical_accuracy: 0.5677\n",
      "Epoch 37/80\n",
      "1225/1225 [==============================] - 118s 97ms/step - loss: 0.5116 - categorical_accuracy: 0.7870 - val_loss: 0.4461 - val_categorical_accuracy: 0.6745\n",
      "Epoch 38/80\n",
      "1225/1225 [==============================] - 117s 96ms/step - loss: 0.5140 - categorical_accuracy: 0.7888 - val_loss: 0.4070 - val_categorical_accuracy: 0.7033\n",
      "Epoch 39/80\n",
      "1225/1225 [==============================] - 118s 97ms/step - loss: 0.5033 - categorical_accuracy: 0.7888 - val_loss: 3.1987 - val_categorical_accuracy: 0.3689\n",
      "Epoch 40/80\n",
      "1225/1225 [==============================] - 119s 97ms/step - loss: 0.5021 - categorical_accuracy: 0.7901 - val_loss: 3.3419 - val_categorical_accuracy: 0.4298\n",
      "Epoch 41/80\n",
      "1225/1225 [==============================] - 119s 97ms/step - loss: 0.5080 - categorical_accuracy: 0.7930 - val_loss: 0.4887 - val_categorical_accuracy: 0.7298\n",
      "Epoch 42/80\n",
      "1225/1225 [==============================] - 118s 96ms/step - loss: 0.5001 - categorical_accuracy: 0.7918 - val_loss: 1.2573 - val_categorical_accuracy: 0.6290\n",
      "Epoch 43/80\n",
      "1225/1225 [==============================] - 117s 96ms/step - loss: 0.4904 - categorical_accuracy: 0.7932 - val_loss: 0.5082 - val_categorical_accuracy: 0.6503\n",
      "Epoch 44/80\n",
      "1225/1225 [==============================] - 118s 96ms/step - loss: 0.4979 - categorical_accuracy: 0.7926 - val_loss: 0.6105 - val_categorical_accuracy: 0.6456\n",
      "Epoch 45/80\n",
      "1225/1225 [==============================] - 118s 97ms/step - loss: 0.5000 - categorical_accuracy: 0.7957 - val_loss: 0.8904 - val_categorical_accuracy: 0.6682\n",
      "Epoch 46/80\n",
      "1225/1225 [==============================] - 119s 97ms/step - loss: 0.4987 - categorical_accuracy: 0.7946 - val_loss: 0.4837 - val_categorical_accuracy: 0.6853\n",
      "Epoch 47/80\n",
      "1225/1225 [==============================] - 118s 96ms/step - loss: 0.4943 - categorical_accuracy: 0.7938 - val_loss: 0.7580 - val_categorical_accuracy: 0.7353\n",
      "Epoch 48/80\n",
      "1225/1225 [==============================] - 117s 96ms/step - loss: 0.4978 - categorical_accuracy: 0.7949 - val_loss: 2.8905 - val_categorical_accuracy: 0.4786\n",
      "Epoch 49/80\n",
      "1225/1225 [==============================] - 117s 95ms/step - loss: 0.4970 - categorical_accuracy: 0.7988 - val_loss: 0.4725 - val_categorical_accuracy: 0.7315\n",
      "Epoch 50/80\n",
      "1225/1225 [==============================] - 117s 96ms/step - loss: 0.4944 - categorical_accuracy: 0.7959 - val_loss: 0.5651 - val_categorical_accuracy: 0.7587\n",
      "Epoch 51/80\n",
      "1225/1225 [==============================] - 117s 96ms/step - loss: 0.4952 - categorical_accuracy: 0.7973 - val_loss: 2.6579 - val_categorical_accuracy: 0.4186\n",
      "Epoch 52/80\n",
      "1225/1225 [==============================] - 119s 97ms/step - loss: 0.4825 - categorical_accuracy: 0.7973 - val_loss: 1.2030 - val_categorical_accuracy: 0.6638\n",
      "Epoch 53/80\n",
      "1225/1225 [==============================] - 119s 97ms/step - loss: 0.4845 - categorical_accuracy: 0.8003 - val_loss: 2.9049 - val_categorical_accuracy: 0.3986\n",
      "Epoch 54/80\n",
      "1225/1225 [==============================] - 119s 97ms/step - loss: 0.4876 - categorical_accuracy: 0.8006 - val_loss: 0.5620 - val_categorical_accuracy: 0.7713\n",
      "Epoch 55/80\n",
      "1225/1225 [==============================] - 120s 98ms/step - loss: 0.4882 - categorical_accuracy: 0.8022 - val_loss: 0.5364 - val_categorical_accuracy: 0.7275\n",
      "Epoch 56/80\n",
      "1225/1225 [==============================] - 118s 96ms/step - loss: 0.4752 - categorical_accuracy: 0.8007 - val_loss: 0.5397 - val_categorical_accuracy: 0.7626\n",
      "Epoch 57/80\n",
      "1225/1225 [==============================] - 118s 96ms/step - loss: 0.4861 - categorical_accuracy: 0.8027 - val_loss: 0.6503 - val_categorical_accuracy: 0.7129\n",
      "Epoch 58/80\n",
      "1225/1225 [==============================] - 118s 96ms/step - loss: 0.4799 - categorical_accuracy: 0.8034 - val_loss: 0.9625 - val_categorical_accuracy: 0.6996\n",
      "Epoch 59/80\n",
      "1225/1225 [==============================] - 118s 96ms/step - loss: 0.4762 - categorical_accuracy: 0.8020 - val_loss: 1.0310 - val_categorical_accuracy: 0.6792\n",
      "Epoch 60/80\n",
      "1225/1225 [==============================] - 118s 96ms/step - loss: 0.4799 - categorical_accuracy: 0.8040 - val_loss: 0.4775 - val_categorical_accuracy: 0.6666\n",
      "Epoch 61/80\n",
      "1225/1225 [==============================] - 117s 96ms/step - loss: 0.4741 - categorical_accuracy: 0.8080 - val_loss: 0.9292 - val_categorical_accuracy: 0.7145\n",
      "Epoch 62/80\n",
      "1225/1225 [==============================] - 117s 95ms/step - loss: 0.4775 - categorical_accuracy: 0.8034 - val_loss: 0.5401 - val_categorical_accuracy: 0.7053\n",
      "Epoch 63/80\n",
      "1225/1225 [==============================] - 117s 95ms/step - loss: 0.4800 - categorical_accuracy: 0.8069 - val_loss: 0.9097 - val_categorical_accuracy: 0.6650\n",
      "Epoch 64/80\n",
      "1225/1225 [==============================] - 117s 96ms/step - loss: 0.4711 - categorical_accuracy: 0.8080 - val_loss: 0.7461 - val_categorical_accuracy: 0.7397\n",
      "Epoch 65/80\n",
      "1225/1225 [==============================] - 118s 96ms/step - loss: 0.4697 - categorical_accuracy: 0.8063 - val_loss: 0.7620 - val_categorical_accuracy: 0.6605\n",
      "Epoch 66/80\n",
      "1225/1225 [==============================] - 119s 97ms/step - loss: 0.4663 - categorical_accuracy: 0.8074 - val_loss: 0.6182 - val_categorical_accuracy: 0.7437\n",
      "Epoch 67/80\n",
      "1225/1225 [==============================] - 119s 97ms/step - loss: 0.4672 - categorical_accuracy: 0.8069 - val_loss: 2.2978 - val_categorical_accuracy: 0.5380\n",
      "Epoch 68/80\n",
      "1225/1225 [==============================] - 119s 97ms/step - loss: 0.4677 - categorical_accuracy: 0.8089 - val_loss: 0.7718 - val_categorical_accuracy: 0.7363\n",
      "Epoch 69/80\n",
      "1225/1225 [==============================] - 120s 98ms/step - loss: 0.4684 - categorical_accuracy: 0.8087 - val_loss: 0.6926 - val_categorical_accuracy: 0.6188\n",
      "Epoch 70/80\n",
      "1225/1225 [==============================] - 119s 97ms/step - loss: 0.4629 - categorical_accuracy: 0.8093 - val_loss: 2.4198 - val_categorical_accuracy: 0.5502\n",
      "Epoch 71/80\n",
      "1225/1225 [==============================] - 119s 97ms/step - loss: 0.4671 - categorical_accuracy: 0.8093 - val_loss: 1.5560 - val_categorical_accuracy: 0.5921\n",
      "Epoch 72/80\n",
      "1225/1225 [==============================] - 119s 97ms/step - loss: 0.4685 - categorical_accuracy: 0.8112 - val_loss: 2.7145 - val_categorical_accuracy: 0.4503\n",
      "Epoch 73/80\n",
      "1225/1225 [==============================] - 120s 98ms/step - loss: 0.4588 - categorical_accuracy: 0.8110 - val_loss: 0.5235 - val_categorical_accuracy: 0.7595\n",
      "Epoch 74/80\n",
      "1225/1225 [==============================] - 120s 98ms/step - loss: 0.4576 - categorical_accuracy: 0.8112 - val_loss: 0.9466 - val_categorical_accuracy: 0.6916\n",
      "Epoch 75/80\n",
      "1225/1225 [==============================] - 120s 98ms/step - loss: 0.4620 - categorical_accuracy: 0.8122 - val_loss: 0.6563 - val_categorical_accuracy: 0.7128\n",
      "Epoch 76/80\n",
      "1225/1225 [==============================] - 120s 98ms/step - loss: 0.4583 - categorical_accuracy: 0.8136 - val_loss: 0.5748 - val_categorical_accuracy: 0.6350\n",
      "Epoch 77/80\n",
      "1225/1225 [==============================] - 120s 98ms/step - loss: 0.4663 - categorical_accuracy: 0.8124 - val_loss: 0.9433 - val_categorical_accuracy: 0.7158\n",
      "Epoch 78/80\n",
      "1225/1225 [==============================] - 119s 97ms/step - loss: 0.4590 - categorical_accuracy: 0.8146 - val_loss: 0.6375 - val_categorical_accuracy: 0.7685\n",
      "Epoch 79/80\n",
      "1225/1225 [==============================] - 119s 97ms/step - loss: 0.4602 - categorical_accuracy: 0.8135 - val_loss: 0.5403 - val_categorical_accuracy: 0.7568\n",
      "Epoch 80/80\n",
      "1225/1225 [==============================] - 119s 97ms/step - loss: 0.4497 - categorical_accuracy: 0.8160 - val_loss: 0.8006 - val_categorical_accuracy: 0.7263\n"
     ]
    }
   ],
   "source": [
    "checkpoint = tf.keras.callbacks.ModelCheckpoint(filepath = SAVE_PATH, save_best_only = True,\n",
    "                                                save_weights_only = True, monitor = 'val_categorical_accuracy')\n",
    "csv_logger = tf.keras.callbacks.CSVLogger(SAVE_PATH + 'train_logs.csv', separator = ',', append = True)\n",
    "\n",
    "history = model.fit(train, epochs = NUM_EPOCHS, validation_data = val, \n",
    "                    callbacks = [checkpoint, csv_logger], verbose = 1)"
   ]
  },
  {
   "cell_type": "code",
   "execution_count": 14,
   "metadata": {
    "colab": {
     "base_uri": "https://localhost:8080/",
     "height": 295
    },
    "id": "8wd7WywipCK0",
    "outputId": "786cc0e0-f79f-4bed-a6dd-26a2de6142e4"
   },
   "outputs": [
    {
     "data": {
      "image/png": "[encoded data removed]",
      "text/plain": [
       "<Figure size 432x288 with 1 Axes>"
      ]
     },
     "metadata": {
      "needs_background": "light",
      "tags": []
     },
     "output_type": "display_data"
    }
   ],
   "source": [
    "import matplotlib.pyplot as plt\n",
    "\n",
    "plt.plot(history.history['categorical_accuracy'])\n",
    "plt.plot(history.history['val_categorical_accuracy'])\n",
    "\n",
    "plt.title('Accuracy vs. epochs')\n",
    "plt.ylabel('Accuracy')\n",
    "plt.xlabel('Epoch')\n",
    "plt.legend(['Training', 'Validation'], loc = 'upper right');\n",
    "\n",
    "plt.savefig(SAVE_PATH + 'history.png')"
   ]
  }
 ],
 "metadata": {
  "accelerator": "GPU",
  "colab": {
   "collapsed_sections": [
    "28Oe8qUoumrF",
    "vYkoTAMSy7WQ",
    "daalgxUb0Fbp",
    "mV8yx-Uj17Av",
    "Ar5WWVk721MJ"
   ],
   "name": "modelv1.ipynb",
   "provenance": []
  },
  "kernelspec": {
   "display_name": "Python 3",
   "language": "python",
   "name": "python3"
  },
  "language_info": {
   "codemirror_mode": {
    "name": "ipython",
    "version": 3
   },
   "file_extension": ".py",
   "mimetype": "text/x-python",
   "name": "python",
   "nbconvert_exporter": "python",
   "pygments_lexer": "ipython3",
   "version": "3.8.5"
  }
 },
 "nbformat": 4,
 "nbformat_minor": 1
}
